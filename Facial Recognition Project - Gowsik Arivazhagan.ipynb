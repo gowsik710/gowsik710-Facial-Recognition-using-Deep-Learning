{
 "cells": [
  {
   "cell_type": "code",
   "execution_count": 1,
   "metadata": {},
   "outputs": [],
   "source": [
    "# importing required libraries\n",
    "import tensorflow as tf\n",
    "from tensorflow import keras\n",
    "import numpy as np\n",
    "import pandas as pd\n",
    "import matplotlib.pyplot as plt\n",
    "%matplotlib inline\n",
    "from tensorflow.keras.models import Sequential\n",
    "from tensorflow.keras.layers import Conv2D,MaxPool2D,Flatten,Dense,Dropout\n",
    "from tensorflow.keras.optimizers import Adam,RMSprop"
   ]
  },
  {
   "cell_type": "code",
   "execution_count": 2,
   "metadata": {},
   "outputs": [
    {
     "data": {
      "text/plain": [
       "'2.4.1'"
      ]
     },
     "execution_count": 2,
     "metadata": {},
     "output_type": "execute_result"
    }
   ],
   "source": [
    "# checking tensor version\n",
    "tf.__version__"
   ]
  },
  {
   "cell_type": "code",
   "execution_count": 3,
   "metadata": {},
   "outputs": [
    {
     "data": {
      "text/plain": [
       "<numpy.lib.npyio.NpzFile at 0x198cc426220>"
      ]
     },
     "execution_count": 3,
     "metadata": {},
     "output_type": "execute_result"
    }
   ],
   "source": [
    "# Reading the file\n",
    "df1=np.load('ORL_faces.npz')\n",
    "df1"
   ]
  },
  {
   "cell_type": "code",
   "execution_count": 4,
   "metadata": {},
   "outputs": [],
   "source": [
    "# Sp;itting the data\n",
    "x_train=df1['trainX']\n",
    "x_test=df1['testX']\n",
    "y_train=df1['trainY']\n",
    "y_test=df1['testY']"
   ]
  },
  {
   "cell_type": "code",
   "execution_count": 5,
   "metadata": {},
   "outputs": [
    {
     "name": "stdout",
     "output_type": "stream",
     "text": [
      "(240, 10304)\n",
      "(240,)\n",
      "(160, 10304)\n",
      "(160,)\n"
     ]
    }
   ],
   "source": [
    "# checking the shape\n",
    "print(x_train.shape)\n",
    "print(y_train.shape)\n",
    "print(x_test.shape)\n",
    "print(y_test.shape)"
   ]
  },
  {
   "cell_type": "code",
   "execution_count": 6,
   "metadata": {},
   "outputs": [],
   "source": [
    "x_train=tf.reshape(x_train,(240,112,92,1))\n",
    "x_test=tf.reshape(x_test,(160,112,92,1))\n",
    "x_train = tf.dtypes.cast(x_train, tf.float32)\n",
    "x_test = tf.dtypes.cast(x_test, tf.float32)\n",
    "x_train/=255\n",
    "x_test/=255"
   ]
  },
  {
   "cell_type": "code",
   "execution_count": 7,
   "metadata": {},
   "outputs": [
    {
     "name": "stdout",
     "output_type": "stream",
     "text": [
      "[[1. 0. 0. ... 0. 0. 0.]\n",
      " [1. 0. 0. ... 0. 0. 0.]\n",
      " [1. 0. 0. ... 0. 0. 0.]\n",
      " ...\n",
      " [0. 0. 0. ... 0. 0. 0.]\n",
      " [0. 0. 0. ... 0. 0. 0.]\n",
      " [0. 0. 0. ... 0. 0. 0.]]\n",
      "[[1. 0. 0. ... 0. 0. 0.]\n",
      " [1. 0. 0. ... 0. 0. 0.]\n",
      " [1. 0. 0. ... 0. 0. 0.]\n",
      " ...\n",
      " [0. 0. 0. ... 0. 0. 0.]\n",
      " [0. 0. 0. ... 0. 0. 0.]\n",
      " [0. 0. 0. ... 0. 0. 0.]]\n"
     ]
    }
   ],
   "source": [
    "y_train=keras.utils.to_categorical(y_train,40)\n",
    "y_test=keras.utils.to_categorical(y_test,40)\n",
    "print(y_train)\n",
    "print(y_test)"
   ]
  },
  {
   "cell_type": "code",
   "execution_count": 8,
   "metadata": {},
   "outputs": [],
   "source": [
    "model=Sequential()"
   ]
  },
  {
   "cell_type": "code",
   "execution_count": 9,
   "metadata": {},
   "outputs": [],
   "source": [
    "# Convolutional Layer and Max Pooling \n",
    "model.add(Conv2D(filters=32,kernel_size=3,activation='relu',input_shape=[112,92,1]))\n",
    "model.add(MaxPool2D(pool_size=2))\n"
   ]
  },
  {
   "cell_type": "code",
   "execution_count": 10,
   "metadata": {},
   "outputs": [],
   "source": [
    "# Flattening\n",
    "model.add(Flatten())"
   ]
  },
  {
   "cell_type": "code",
   "execution_count": 11,
   "metadata": {},
   "outputs": [],
   "source": [
    "# Dense Layer\n",
    "model.add(Dense(units=1024,activation='relu'))\n",
    "model.add(Dropout(0.5))\n",
    "model.add(Dense(units=512,activation='relu'))\n",
    "model.add(Dropout(0.5))\n",
    "model.add(Dense(units=40,activation='softmax'))"
   ]
  },
  {
   "cell_type": "code",
   "execution_count": 12,
   "metadata": {},
   "outputs": [
    {
     "name": "stdout",
     "output_type": "stream",
     "text": [
      "Epoch 1/99\n",
      "2/2 [==============================] - 6s 3s/step - loss: 5.1389 - accuracy: 0.0139 - val_loss: 4.5249 - val_accuracy: 0.0500\n",
      "Epoch 2/99\n",
      "2/2 [==============================] - 2s 1s/step - loss: 7.7378 - accuracy: 0.0378 - val_loss: 3.1504 - val_accuracy: 0.1063\n",
      "Epoch 3/99\n",
      "2/2 [==============================] - 2s 1s/step - loss: 4.8035 - accuracy: 0.0568 - val_loss: 3.0663 - val_accuracy: 0.1500\n",
      "Epoch 4/99\n",
      "2/2 [==============================] - 2s 1s/step - loss: 3.9402 - accuracy: 0.0790 - val_loss: 3.1014 - val_accuracy: 0.1625\n",
      "Epoch 5/99\n",
      "2/2 [==============================] - 2s 1s/step - loss: 3.6004 - accuracy: 0.0656 - val_loss: 3.1058 - val_accuracy: 0.0938\n",
      "Epoch 6/99\n",
      "2/2 [==============================] - 2s 1s/step - loss: 3.2867 - accuracy: 0.1002 - val_loss: 3.0652 - val_accuracy: 0.2125\n",
      "Epoch 7/99\n",
      "2/2 [==============================] - 2s 1s/step - loss: 3.0264 - accuracy: 0.1174 - val_loss: 2.9613 - val_accuracy: 0.4313\n",
      "Epoch 8/99\n",
      "2/2 [==============================] - 2s 1s/step - loss: 2.9767 - accuracy: 0.1686 - val_loss: 2.8241 - val_accuracy: 0.3313\n",
      "Epoch 9/99\n",
      "2/2 [==============================] - 2s 1s/step - loss: 2.8461 - accuracy: 0.1439 - val_loss: 2.7189 - val_accuracy: 0.3438\n",
      "Epoch 10/99\n",
      "2/2 [==============================] - 2s 1s/step - loss: 2.7631 - accuracy: 0.1602 - val_loss: 2.6400 - val_accuracy: 0.4000\n",
      "Epoch 11/99\n",
      "2/2 [==============================] - 2s 1s/step - loss: 2.6080 - accuracy: 0.2207 - val_loss: 2.5533 - val_accuracy: 0.5125\n",
      "Epoch 12/99\n",
      "2/2 [==============================] - 2s 1s/step - loss: 2.4885 - accuracy: 0.2830 - val_loss: 2.3985 - val_accuracy: 0.7188\n",
      "Epoch 13/99\n",
      "2/2 [==============================] - 2s 1s/step - loss: 2.5080 - accuracy: 0.2292 - val_loss: 2.1872 - val_accuracy: 0.6875\n",
      "Epoch 14/99\n",
      "2/2 [==============================] - 2s 1s/step - loss: 2.2220 - accuracy: 0.3613 - val_loss: 2.0322 - val_accuracy: 0.6875\n",
      "Epoch 15/99\n",
      "2/2 [==============================] - 2s 1s/step - loss: 2.0809 - accuracy: 0.3727 - val_loss: 1.8932 - val_accuracy: 0.7250\n",
      "Epoch 16/99\n",
      "2/2 [==============================] - 2s 1s/step - loss: 1.9600 - accuracy: 0.4807 - val_loss: 1.7591 - val_accuracy: 0.8000\n",
      "Epoch 17/99\n",
      "2/2 [==============================] - 2s 1s/step - loss: 1.7287 - accuracy: 0.5248 - val_loss: 1.6086 - val_accuracy: 0.8062\n",
      "Epoch 18/99\n",
      "2/2 [==============================] - 2s 1s/step - loss: 1.7122 - accuracy: 0.5408 - val_loss: 1.4136 - val_accuracy: 0.8313\n",
      "Epoch 19/99\n",
      "2/2 [==============================] - 2s 1s/step - loss: 1.4158 - accuracy: 0.6465 - val_loss: 1.2218 - val_accuracy: 0.8438\n",
      "Epoch 20/99\n",
      "2/2 [==============================] - 2s 1s/step - loss: 1.3226 - accuracy: 0.6116 - val_loss: 1.0909 - val_accuracy: 0.8500\n",
      "Epoch 21/99\n",
      "2/2 [==============================] - 2s 1s/step - loss: 1.1728 - accuracy: 0.6769 - val_loss: 0.9648 - val_accuracy: 0.8500\n",
      "Epoch 22/99\n",
      "2/2 [==============================] - 2s 1s/step - loss: 1.0999 - accuracy: 0.6602 - val_loss: 0.8255 - val_accuracy: 0.8562\n",
      "Epoch 23/99\n",
      "2/2 [==============================] - 2s 1s/step - loss: 0.9957 - accuracy: 0.7040 - val_loss: 0.7142 - val_accuracy: 0.9125\n",
      "Epoch 24/99\n",
      "2/2 [==============================] - 2s 1s/step - loss: 0.8013 - accuracy: 0.7715 - val_loss: 0.6505 - val_accuracy: 0.9250\n",
      "Epoch 25/99\n",
      "2/2 [==============================] - 2s 1s/step - loss: 0.6759 - accuracy: 0.8234 - val_loss: 0.6071 - val_accuracy: 0.9250\n",
      "Epoch 26/99\n",
      "2/2 [==============================] - 2s 1s/step - loss: 0.7288 - accuracy: 0.7720 - val_loss: 0.5557 - val_accuracy: 0.9125\n",
      "Epoch 27/99\n",
      "2/2 [==============================] - 2s 1s/step - loss: 0.6052 - accuracy: 0.8585 - val_loss: 0.4765 - val_accuracy: 0.9312\n",
      "Epoch 28/99\n",
      "2/2 [==============================] - 2s 1s/step - loss: 0.5160 - accuracy: 0.8339 - val_loss: 0.4008 - val_accuracy: 0.9375\n",
      "Epoch 29/99\n",
      "2/2 [==============================] - 2s 1s/step - loss: 0.4692 - accuracy: 0.8585 - val_loss: 0.3424 - val_accuracy: 0.9375\n",
      "Epoch 30/99\n",
      "2/2 [==============================] - 2s 1s/step - loss: 0.3578 - accuracy: 0.9102 - val_loss: 0.3144 - val_accuracy: 0.9187\n",
      "Epoch 31/99\n",
      "2/2 [==============================] - 2s 1s/step - loss: 0.3566 - accuracy: 0.8861 - val_loss: 0.3362 - val_accuracy: 0.9312\n",
      "Epoch 32/99\n",
      "2/2 [==============================] - 3s 1s/step - loss: 0.3139 - accuracy: 0.9264 - val_loss: 0.3206 - val_accuracy: 0.9250\n",
      "Epoch 33/99\n",
      "2/2 [==============================] - 2s 1s/step - loss: 0.3367 - accuracy: 0.8995 - val_loss: 0.3058 - val_accuracy: 0.9250\n",
      "Epoch 34/99\n",
      "2/2 [==============================] - 2s 1s/step - loss: 0.3175 - accuracy: 0.8806 - val_loss: 0.2675 - val_accuracy: 0.9250\n",
      "Epoch 35/99\n",
      "2/2 [==============================] - 2s 1s/step - loss: 0.2559 - accuracy: 0.9297 - val_loss: 0.3069 - val_accuracy: 0.9187\n",
      "Epoch 36/99\n",
      "2/2 [==============================] - 2s 1s/step - loss: 0.2415 - accuracy: 0.9319 - val_loss: 0.3104 - val_accuracy: 0.9250\n",
      "Epoch 37/99\n",
      "2/2 [==============================] - 2s 1s/step - loss: 0.1930 - accuracy: 0.9512 - val_loss: 0.2739 - val_accuracy: 0.9250\n",
      "Epoch 38/99\n",
      "2/2 [==============================] - 2s 1s/step - loss: 0.2374 - accuracy: 0.9373 - val_loss: 0.2274 - val_accuracy: 0.9375\n",
      "Epoch 39/99\n",
      "2/2 [==============================] - 2s 1s/step - loss: 0.1870 - accuracy: 0.9670 - val_loss: 0.2222 - val_accuracy: 0.9375\n",
      "Epoch 40/99\n",
      "2/2 [==============================] - 2s 1s/step - loss: 0.1827 - accuracy: 0.9458 - val_loss: 0.2236 - val_accuracy: 0.9438\n",
      "Epoch 41/99\n",
      "2/2 [==============================] - 2s 1s/step - loss: 0.1515 - accuracy: 0.9592 - val_loss: 0.2261 - val_accuracy: 0.9312\n",
      "Epoch 42/99\n",
      "2/2 [==============================] - 2s 1s/step - loss: 0.1251 - accuracy: 0.9729 - val_loss: 0.2219 - val_accuracy: 0.9187\n",
      "Epoch 43/99\n",
      "2/2 [==============================] - 2s 1s/step - loss: 0.1438 - accuracy: 0.9729 - val_loss: 0.2225 - val_accuracy: 0.9250\n",
      "Epoch 44/99\n",
      "2/2 [==============================] - 3s 1s/step - loss: 0.1357 - accuracy: 0.9727 - val_loss: 0.2224 - val_accuracy: 0.9312\n",
      "Epoch 45/99\n",
      "2/2 [==============================] - 2s 1s/step - loss: 0.1265 - accuracy: 0.9729 - val_loss: 0.2596 - val_accuracy: 0.9375\n",
      "Epoch 46/99\n",
      "2/2 [==============================] - 2s 1s/step - loss: 0.1286 - accuracy: 0.9623 - val_loss: 0.2848 - val_accuracy: 0.9375\n",
      "Epoch 47/99\n",
      "2/2 [==============================] - 2s 1s/step - loss: 0.0702 - accuracy: 0.9837 - val_loss: 0.2639 - val_accuracy: 0.9250\n",
      "Epoch 48/99\n",
      "2/2 [==============================] - 2s 1s/step - loss: 0.0849 - accuracy: 0.9727 - val_loss: 0.2465 - val_accuracy: 0.9250\n",
      "Epoch 49/99\n",
      "2/2 [==============================] - 2s 1s/step - loss: 0.1039 - accuracy: 0.9727 - val_loss: 0.2506 - val_accuracy: 0.9375\n",
      "Epoch 50/99\n",
      "2/2 [==============================] - 2s 1s/step - loss: 0.0743 - accuracy: 0.9837 - val_loss: 0.2711 - val_accuracy: 0.9375\n",
      "Epoch 51/99\n",
      "2/2 [==============================] - 2s 1s/step - loss: 0.0853 - accuracy: 0.9648 - val_loss: 0.2780 - val_accuracy: 0.9312\n",
      "Epoch 52/99\n",
      "2/2 [==============================] - 2s 1s/step - loss: 0.1039 - accuracy: 0.9757 - val_loss: 0.2526 - val_accuracy: 0.9312\n",
      "Epoch 53/99\n",
      "2/2 [==============================] - 2s 1s/step - loss: 0.0618 - accuracy: 0.9944 - val_loss: 0.2165 - val_accuracy: 0.9375\n",
      "Epoch 54/99\n",
      "2/2 [==============================] - 2s 1s/step - loss: 0.0767 - accuracy: 0.9865 - val_loss: 0.1881 - val_accuracy: 0.9312\n",
      "Epoch 55/99\n",
      "2/2 [==============================] - 2s 1s/step - loss: 0.0616 - accuracy: 0.9865 - val_loss: 0.1905 - val_accuracy: 0.9312\n",
      "Epoch 56/99\n",
      "2/2 [==============================] - 3s 1s/step - loss: 0.0437 - accuracy: 1.0000 - val_loss: 0.2083 - val_accuracy: 0.9438\n",
      "Epoch 57/99\n",
      "2/2 [==============================] - 3s 1s/step - loss: 0.0628 - accuracy: 0.9781 - val_loss: 0.2378 - val_accuracy: 0.9375\n",
      "Epoch 58/99\n",
      "2/2 [==============================] - 3s 1s/step - loss: 0.0513 - accuracy: 0.9972 - val_loss: 0.2693 - val_accuracy: 0.9375\n",
      "Epoch 59/99\n",
      "2/2 [==============================] - 3s 1s/step - loss: 0.0475 - accuracy: 0.9917 - val_loss: 0.2820 - val_accuracy: 0.9375\n",
      "Epoch 60/99\n"
     ]
    },
    {
     "name": "stdout",
     "output_type": "stream",
     "text": [
      "2/2 [==============================] - 2s 1s/step - loss: 0.0606 - accuracy: 0.9835 - val_loss: 0.2750 - val_accuracy: 0.9375\n",
      "Epoch 61/99\n",
      "2/2 [==============================] - 3s 1s/step - loss: 0.0440 - accuracy: 0.9972 - val_loss: 0.2530 - val_accuracy: 0.9375\n",
      "Epoch 62/99\n",
      "2/2 [==============================] - 2s 1s/step - loss: 0.0553 - accuracy: 0.9891 - val_loss: 0.2167 - val_accuracy: 0.9250\n",
      "Epoch 63/99\n",
      "2/2 [==============================] - 2s 1s/step - loss: 0.0355 - accuracy: 0.9918 - val_loss: 0.1985 - val_accuracy: 0.9312\n",
      "Epoch 64/99\n",
      "2/2 [==============================] - 2s 1s/step - loss: 0.0356 - accuracy: 1.0000 - val_loss: 0.1968 - val_accuracy: 0.9250\n",
      "Epoch 65/99\n",
      "2/2 [==============================] - 2s 1s/step - loss: 0.0600 - accuracy: 0.9811 - val_loss: 0.2125 - val_accuracy: 0.9375\n",
      "Epoch 66/99\n",
      "2/2 [==============================] - 2s 1s/step - loss: 0.0440 - accuracy: 1.0000 - val_loss: 0.2460 - val_accuracy: 0.9375\n",
      "Epoch 67/99\n",
      "2/2 [==============================] - 2s 1s/step - loss: 0.0430 - accuracy: 0.9918 - val_loss: 0.2767 - val_accuracy: 0.9375\n",
      "Epoch 68/99\n",
      "2/2 [==============================] - 3s 1s/step - loss: 0.0585 - accuracy: 0.9865 - val_loss: 0.2948 - val_accuracy: 0.9312\n",
      "Epoch 69/99\n",
      "2/2 [==============================] - 3s 1s/step - loss: 0.0417 - accuracy: 0.9892 - val_loss: 0.2977 - val_accuracy: 0.9312\n",
      "Epoch 70/99\n",
      "2/2 [==============================] - 2s 1s/step - loss: 0.0427 - accuracy: 0.9865 - val_loss: 0.2818 - val_accuracy: 0.9375\n",
      "Epoch 71/99\n",
      "2/2 [==============================] - 2s 1s/step - loss: 0.0286 - accuracy: 0.9972 - val_loss: 0.2858 - val_accuracy: 0.9375\n",
      "Epoch 72/99\n",
      "2/2 [==============================] - 3s 2s/step - loss: 0.0409 - accuracy: 0.9865 - val_loss: 0.2831 - val_accuracy: 0.9375\n",
      "Epoch 73/99\n",
      "2/2 [==============================] - 3s 1s/step - loss: 0.0496 - accuracy: 0.9865 - val_loss: 0.2348 - val_accuracy: 0.9375\n",
      "Epoch 74/99\n",
      "2/2 [==============================] - 3s 1s/step - loss: 0.0295 - accuracy: 0.9944 - val_loss: 0.1979 - val_accuracy: 0.9500\n",
      "Epoch 75/99\n",
      "2/2 [==============================] - 3s 1s/step - loss: 0.0319 - accuracy: 0.9892 - val_loss: 0.1751 - val_accuracy: 0.9500\n",
      "Epoch 76/99\n",
      "2/2 [==============================] - 2s 1s/step - loss: 0.0304 - accuracy: 0.9972 - val_loss: 0.1752 - val_accuracy: 0.9500\n",
      "Epoch 77/99\n",
      "2/2 [==============================] - 2s 1s/step - loss: 0.0273 - accuracy: 0.9972 - val_loss: 0.1920 - val_accuracy: 0.9438\n",
      "Epoch 78/99\n",
      "2/2 [==============================] - 3s 1s/step - loss: 0.0294 - accuracy: 0.9972 - val_loss: 0.2248 - val_accuracy: 0.9375\n",
      "Epoch 79/99\n",
      "2/2 [==============================] - 2s 1s/step - loss: 0.0339 - accuracy: 0.9839 - val_loss: 0.2502 - val_accuracy: 0.9375\n",
      "Epoch 80/99\n",
      "2/2 [==============================] - 3s 1s/step - loss: 0.0413 - accuracy: 0.9892 - val_loss: 0.2542 - val_accuracy: 0.9375\n",
      "Epoch 81/99\n",
      "2/2 [==============================] - 3s 1s/step - loss: 0.0399 - accuracy: 1.0000 - val_loss: 0.2471 - val_accuracy: 0.9375\n",
      "Epoch 82/99\n",
      "2/2 [==============================] - 2s 1s/step - loss: 0.0245 - accuracy: 0.9972 - val_loss: 0.2432 - val_accuracy: 0.9500\n",
      "Epoch 83/99\n",
      "2/2 [==============================] - 2s 1s/step - loss: 0.0319 - accuracy: 0.9972 - val_loss: 0.2435 - val_accuracy: 0.9500\n",
      "Epoch 84/99\n",
      "2/2 [==============================] - 2s 1s/step - loss: 0.0244 - accuracy: 1.0000 - val_loss: 0.2378 - val_accuracy: 0.9500\n",
      "Epoch 85/99\n",
      "2/2 [==============================] - 2s 1s/step - loss: 0.0192 - accuracy: 1.0000 - val_loss: 0.2387 - val_accuracy: 0.9375\n",
      "Epoch 86/99\n",
      "2/2 [==============================] - 2s 1s/step - loss: 0.0292 - accuracy: 0.9972 - val_loss: 0.2438 - val_accuracy: 0.9375\n",
      "Epoch 87/99\n",
      "2/2 [==============================] - 2s 1s/step - loss: 0.0336 - accuracy: 0.9972 - val_loss: 0.2427 - val_accuracy: 0.9375\n",
      "Epoch 88/99\n",
      "2/2 [==============================] - 2s 1s/step - loss: 0.0499 - accuracy: 0.9946 - val_loss: 0.2262 - val_accuracy: 0.9438\n",
      "Epoch 89/99\n",
      "2/2 [==============================] - 2s 1s/step - loss: 0.0251 - accuracy: 1.0000 - val_loss: 0.1973 - val_accuracy: 0.9500\n",
      "Epoch 90/99\n",
      "2/2 [==============================] - 2s 1s/step - loss: 0.0363 - accuracy: 0.9865 - val_loss: 0.1866 - val_accuracy: 0.9500\n",
      "Epoch 91/99\n",
      "2/2 [==============================] - 2s 1s/step - loss: 0.0502 - accuracy: 0.9891 - val_loss: 0.1879 - val_accuracy: 0.9500\n",
      "Epoch 92/99\n",
      "2/2 [==============================] - 3s 1s/step - loss: 0.0222 - accuracy: 0.9946 - val_loss: 0.2126 - val_accuracy: 0.9375\n",
      "Epoch 93/99\n",
      "2/2 [==============================] - 3s 2s/step - loss: 0.0322 - accuracy: 0.9944 - val_loss: 0.2432 - val_accuracy: 0.9375\n",
      "Epoch 94/99\n",
      "2/2 [==============================] - 3s 2s/step - loss: 0.0521 - accuracy: 0.9809 - val_loss: 0.2287 - val_accuracy: 0.9375\n",
      "Epoch 95/99\n",
      "2/2 [==============================] - 3s 1s/step - loss: 0.0210 - accuracy: 0.9972 - val_loss: 0.2791 - val_accuracy: 0.9375\n",
      "Epoch 96/99\n",
      "2/2 [==============================] - 2s 1s/step - loss: 0.0266 - accuracy: 0.9946 - val_loss: 0.3016 - val_accuracy: 0.9250\n",
      "Epoch 97/99\n",
      "2/2 [==============================] - 3s 1s/step - loss: 0.0398 - accuracy: 0.9891 - val_loss: 0.3061 - val_accuracy: 0.9312\n",
      "Epoch 98/99\n",
      "2/2 [==============================] - 3s 1s/step - loss: 0.0511 - accuracy: 0.9891 - val_loss: 0.3239 - val_accuracy: 0.9375\n",
      "Epoch 99/99\n",
      "2/2 [==============================] - 2s 1s/step - loss: 0.0365 - accuracy: 0.9892 - val_loss: 0.3325 - val_accuracy: 0.9375\n"
     ]
    }
   ],
   "source": [
    "# Compiling and Fitting \n",
    "model.compile(loss='categorical_crossentropy',optimizer='Adam',metrics=['accuracy'])\n",
    "history=model.fit(x_train,y_train,epochs=99,verbose=1,batch_size=128,validation_data=(x_test,y_test))"
   ]
  },
  {
   "cell_type": "code",
   "execution_count": 13,
   "metadata": {},
   "outputs": [
    {
     "data": {
      "text/plain": [
       "[0.33245018124580383, 0.9375]"
      ]
     },
     "execution_count": 13,
     "metadata": {},
     "output_type": "execute_result"
    }
   ],
   "source": [
    "# displaying the loss value and Accuracy for test data\n",
    "r=model.evaluate(x_test,y_test,verbose=0)\n",
    "r"
   ]
  },
  {
   "cell_type": "code",
   "execution_count": 14,
   "metadata": {},
   "outputs": [
    {
     "data": {
      "image/png": "[encoded data removed]",
      "text/plain": [
       "<Figure size 432x288 with 1 Axes>"
      ]
     },
     "metadata": {
      "needs_background": "light"
     },
     "output_type": "display_data"
    }
   ],
   "source": [
    "# Plotting the graph for train and test data\n",
    "plt.plot(history.history['accuracy'],label='train')\n",
    "plt.plot(history.history['val_accuracy'],label='test')\n",
    "plt.legend()\n",
    "plt.show()"
   ]
  }
 ],
 "metadata": {
  "kernelspec": {
   "display_name": "Python 3",
   "language": "python",
   "name": "python3"
  },
  "language_info": {
   "codemirror_mode": {
    "name": "ipython",
    "version": 3
   },
   "file_extension": ".py",
   "mimetype": "text/x-python",
   "name": "python",
   "nbconvert_exporter": "python",
   "pygments_lexer": "ipython3",
   "version": "3.8.5"
  }
 },
 "nbformat": 4,
 "nbformat_minor": 4
}
